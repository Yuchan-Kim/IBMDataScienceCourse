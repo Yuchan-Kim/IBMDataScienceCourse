{
 "cells": [
  {
   "cell_type": "code",
   "execution_count": null,
   "id": "b563738c-79d8-4892-917e-44f1f15e5ce8",
   "metadata": {},
   "outputs": [],
   "source": []
  },
  {
   "cell_type": "markdown",
   "id": "63d7ff8d-480b-478e-9c48-e55382c675ac",
   "metadata": {},
   "source": [
    "# Data Science Tools and Ecosystem"
   ]
  },
  {
   "cell_type": "markdown",
   "id": "c65ab7c8-8b9d-475f-8528-b6dcb7c0f6e8",
   "metadata": {},
   "source": [
    "## In this notebook, Data Science Tools and Ecosystems are summarized "
   ]
  },
  {
   "cell_type": "markdown",
   "id": "ca948922-edc8-456c-b507-a6f9cae350a0",
   "metadata": {},
   "source": [
    "#### Some of the popular languages that Data Scientists use are:"
   ]
  },
  {
   "cell_type": "markdown",
   "id": "313fd08e-9e44-4fcc-9deb-cb7821fe4808",
   "metadata": {},
   "source": [
    "1. Python \n",
    "2. R\n",
    "3. Java"
   ]
  },
  {
   "cell_type": "markdown",
   "id": "9729442d-e1d3-4106-afdb-ed4d52566e6a",
   "metadata": {},
   "source": [
    "#### Some of the commonly used libraries used by Data Scientists include:"
   ]
  },
  {
   "cell_type": "markdown",
   "id": "1def84b1-702f-4e3f-8b2c-7cf46f057624",
   "metadata": {},
   "source": [
    "1. Numpy\n",
    "2. Panda\n",
    "3. PyTorch"
   ]
  },
  {
   "cell_type": "markdown",
   "id": "6f4783ea-c698-4249-949d-b1e09276512f",
   "metadata": {},
   "source": [
    "**Objectives:**\n",
    "\n",
    "- List popular languages for Data Science.\n",
    "- Explore key libraries and frameworks for each language.\n",
    "- Demonstrate basic data manipulation techniques.\n",
    "- Visualize data using Python libraries.\n",
    "- Implement a simple machine learning model.\n"
   ]
  },
  {
   "cell_type": "markdown",
   "id": "7935c1e2-b458-4abf-84ff-e0cc8908e236",
   "metadata": {},
   "source": [
    "| Data Science Tools |\n",
    "| ------------------ |\n",
    "| 1. Jupyter Notebook |\n",
    "| 2. RStudio |\n",
    "| 3. Visual Studio Code |"
   ]
  },
  {
   "cell_type": "markdown",
   "id": "ae126a33-055f-4d8f-bd3d-ec9eac6f674e",
   "metadata": {},
   "source": [
    "### Below are a few examples of evaluating arithmetic expressions in Python"
   ]
  },
  {
   "cell_type": "code",
   "execution_count": 38,
   "id": "fb820c52-02ad-44c0-b4cc-18a4eaf21e34",
   "metadata": {},
   "outputs": [
    {
     "name": "stdout",
     "output_type": "stream",
     "text": [
      "60\n"
     ]
    },
    {
     "data": {
      "text/plain": [
       "60"
      ]
     },
     "execution_count": 38,
     "metadata": {},
     "output_type": "execute_result"
    }
   ],
   "source": [
    "A = 40 \n",
    "B = 20\n",
    "\n",
    "print(A+B)\n",
    "A+B"
   ]
  },
  {
   "cell_type": "code",
   "execution_count": 32,
   "id": "6db064fe-b2b5-47e2-bf6f-136dc45a14dd",
   "metadata": {},
   "outputs": [
    {
     "data": {
      "text/plain": [
       "800"
      ]
     },
     "execution_count": 32,
     "metadata": {},
     "output_type": "execute_result"
    }
   ],
   "source": [
    "A*B"
   ]
  },
  {
   "cell_type": "code",
   "execution_count": 34,
   "id": "09efae39-bf9f-4ef0-a7ec-f1ea4f65c501",
   "metadata": {},
   "outputs": [
    {
     "data": {
      "text/plain": [
       "2.0"
      ]
     },
     "execution_count": 34,
     "metadata": {},
     "output_type": "execute_result"
    }
   ],
   "source": [
    "A/B"
   ]
  },
  {
   "cell_type": "code",
   "execution_count": 36,
   "id": "7143e6a8-cc45-4106-98c3-561b4c77dea4",
   "metadata": {},
   "outputs": [
    {
     "data": {
      "text/plain": [
       "0"
      ]
     },
     "execution_count": 36,
     "metadata": {},
     "output_type": "execute_result"
    }
   ],
   "source": [
    "A%B"
   ]
  },
  {
   "cell_type": "code",
   "execution_count": null,
   "id": "c1149a1f-2012-40b6-ba22-20678a4253a2",
   "metadata": {},
   "outputs": [],
   "source": []
  },
  {
   "cell_type": "code",
   "execution_count": null,
   "id": "9406df83-ad6e-4c41-ba87-75c0702d4267",
   "metadata": {},
   "outputs": [],
   "source": []
  },
  {
   "cell_type": "code",
   "execution_count": 51,
   "id": "22e4dd5d-4cbc-4edc-8285-93e510a0b4f5",
   "metadata": {},
   "outputs": [
    {
     "data": {
      "text/plain": [
       "17"
      ]
     },
     "execution_count": 51,
     "metadata": {},
     "output_type": "execute_result"
    }
   ],
   "source": [
    "## This is a simple arithmetic expression to multiply then add integers.\n",
    "(3*4)+5"
   ]
  },
  {
   "cell_type": "code",
   "execution_count": null,
   "id": "441f3602-1aff-494d-ba33-b431d137fa0f",
   "metadata": {},
   "outputs": [],
   "source": []
  },
  {
   "cell_type": "code",
   "execution_count": 54,
   "id": "dc0fd0f8-a88d-4a17-b516-6d64d54dda4e",
   "metadata": {},
   "outputs": [
    {
     "data": {
      "text/plain": [
       "3.3333333333333335"
      ]
     },
     "execution_count": 54,
     "metadata": {},
     "output_type": "execute_result"
    }
   ],
   "source": [
    "## This will convert 200 minutes to hours by dividing by 60.\n",
    "\n",
    "200/60"
   ]
  },
  {
   "cell_type": "markdown",
   "id": "57ad0888-4ab2-45db-80dc-41be6f166008",
   "metadata": {},
   "source": [
    "## Author\n",
    "Yuchan Kim \n"
   ]
  },
  {
   "cell_type": "code",
   "execution_count": null,
   "id": "080c5ea9-a46e-4147-b9e7-3a9e742a5ab4",
   "metadata": {},
   "outputs": [],
   "source": []
  }
 ],
 "metadata": {
  "kernelspec": {
   "display_name": "anaconda-panel-2023.05-py310",
   "language": "python",
   "name": "conda-env-anaconda-panel-2023.05-py310-py"
  },
  "language_info": {
   "codemirror_mode": {
    "name": "ipython",
    "version": 3
   },
   "file_extension": ".py",
   "mimetype": "text/x-python",
   "name": "python",
   "nbconvert_exporter": "python",
   "pygments_lexer": "ipython3",
   "version": "3.11.5"
  }
 },
 "nbformat": 4,
 "nbformat_minor": 5
}
